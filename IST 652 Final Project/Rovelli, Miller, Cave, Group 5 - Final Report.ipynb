{
 "cells": [
  {
   "cell_type": "markdown",
   "id": "411a6384-a754-4a05-9f71-fc01450f645f",
   "metadata": {},
   "source": [
    "# FC Barcelona Dominating the Pitch - Final Report\n",
    "### Nick Rovelli, John Miller, Will Cave"
   ]
  },
  {
   "cell_type": "markdown",
   "id": "7fe48e17-e9ca-4228-9339-9f3e5b55b3f8",
   "metadata": {},
   "source": [
    "#### <b>Background</b>\n",
    "\n",
    "As soccer fans and data science students, we were interested in looking at the intersection between sport and data. Recent developments in the world of sport data have made advanced datasets more accessible to the public. We wanted to look at a highly successful club and see how they performed relative to the teams they were playing against using player tracking data. We were also interested in isolating star players from said team to look at their individual impact on team success.\n",
    "\n",
    "We decided to analyze <b> FC Barcelona </b>for our project, one of the most historically successful clubs in interational soccer. We chose Barcelona not only because they were highly successful, but they also had one of the best players in the world in <b> Lionel Messi</b>. By analyzing Barcelona's tactics and movement patterns, we can develop a better understanding as to what makes a soccer team successful. We can also look at Messi's individual contributions to determine his impact on each match. From a different perspective, we can also analyze how an opposing club might prepare to play against Messi, knowing that he will likely have a huge impact on the game."
   ]
  },
  {
   "cell_type": "markdown",
   "id": "9b64e9f5-031a-4bb2-9a3c-3cf2f30c570a",
   "metadata": {},
   "source": [
    "#### <b>Introduction</b>"
   ]
  },
  {
   "cell_type": "markdown",
   "id": "0e1f5760-35d3-40fb-91b9-118960690be0",
   "metadata": {},
   "source": [
    "<b>FC Barcelona</b> are historically one of the most dominant clubs in the history of club football. Led by manager Ernesto Valverde, Barcelona had a solid 2018-19 season. They comfortably finished at the top of the table in <b>La Liga</b>, Spain’s top-flight domestic football league, totaling 87 points, 11 more than runners-up Atletico Madrid. They reached the final of the <b>Copa Del Rey</b>, Spain’s domestic football tournament. In international competition, they reached the semifinals of the <b>UEFA Champions League</b> before falling to Liverpool 4-3.\n",
    "\n",
    "In this project, we will be analyzing play-by-play data from 10 FC Barcelona matches from the 2018-19 season. By examining positional, tactical, and scoring opportunity data, we aim to explore what made this Barcelona team so dominant."
   ]
  },
  {
   "cell_type": "markdown",
   "id": "e053aa1b-3fe1-40b6-ab12-d4c46c86ce2f",
   "metadata": {
    "tags": []
   },
   "source": [
    "#### <b>Data</b>"
   ]
  },
  {
   "cell_type": "markdown",
   "id": "f264de3d-15c8-47aa-a43d-cea232305d64",
   "metadata": {},
   "source": [
    "Our data come from the <b>StatsBomb Data API</b>, a resource provided by Hudl. We collected data from 10 FC Barcelona matches in the 2018/19 season. Our data includes 5 wins and 5 non-wins (draw or loss). The dataset includes tracking information for each event that occurs during a football match. The start and end location of passes, shots, carries, and duels are provided with coordinates. Our dataset contains 34,485 rows across 135 columns. Many of these columns are functional only for a specific event like a pass or a shot. Each row is timestamped and the data are sequentially ordered to allow for analysis of something like a buildup to a goal-scoring opportunity.\n",
    "\n",
    "More data manipulation in cells one through three in R."
   ]
  },
  {
   "cell_type": "code",
   "execution_count": null,
   "id": "a8ffb201-8f26-4b24-a622-ae336c16aec3",
   "metadata": {},
   "outputs": [],
   "source": [
    "import json\n",
    "import urllib.request\n",
    "import pandas as pd\n",
    "import numpy as np\n",
    "from pandas import json_normalize\n",
    "import requests\n",
    "import matplotlib.pyplot as plt\n",
    "import csv"
   ]
  },
  {
   "cell_type": "code",
   "execution_count": null,
   "id": "bab60675-8bb0-4327-938a-597133b5aab2",
   "metadata": {},
   "outputs": [],
   "source": [
    "deportivo_alvares = \"https://raw.githubusercontent.com/statsbomb/open-data/master/data/events/15946.json\"\n",
    "response = urllib.request.urlopen(deportivo_alvares)\n",
    "response.code\n",
    "\n",
    "# transform json data into a string\n",
    "json_string = response.read().decode('utf-8')\n",
    "\n",
    "# parse json data - gives us list of dictionaries that correspond to game events\n",
    "eq_parsed_json = json.loads(json_string)\n",
    "eq_parsed_json[0]['tactics']['lineup']\n",
    "\n",
    "events = requests.get(\"https://raw.githubusercontent.com/statsbomb/open-data/master/data/events/15946.json\")\n",
    "events = events.json()\n",
    "#loading in match events from json file\n",
    "deportivo_alvares_df = json_normalize(events, sep = \"_\")\n",
    "\n",
    "#real vallodid barca win\n",
    "real_vallodid = \"https://raw.githubusercontent.com/statsbomb/open-data/master/data/events/15956.json\"\n",
    "response_rv = urllib.request.urlopen(real_vallodid)\n",
    "response_rv.code\n",
    "\n",
    "# transform json data into a string\n",
    "json_string_rv = response_rv.read().decode('utf-8')\n",
    "\n",
    "# parse json data - gives us list of dictionaries that correspond to game events\n",
    "eq_parsed_json_rv = json.loads(json_string_rv)\n",
    "eq_parsed_json_rv[1]['tactics']['lineup']\n",
    "\n",
    "events = requests.get(\"https://raw.githubusercontent.com/statsbomb/open-data/master/data/events/15956.json\")\n",
    "events = events.json()\n",
    "#loading in match events from json file\n",
    "real_vallodid_df = json_normalize(events, sep = \"_\")\n",
    "\n",
    "#huesca barca win\n",
    "huesca = \"https://raw.githubusercontent.com/statsbomb/open-data/master/data/events/15973.json\"\n",
    "response_huesca = urllib.request.urlopen(huesca)\n",
    "response_huesca.code\n",
    "\n",
    "# transform json data into a string\n",
    "json_string_huesca = response_huesca.read().decode('utf-8')\n",
    "\n",
    "# parse json data - gives us list of dictionaries that correspond to game events\n",
    "eq_parsed_json_huesca = json.loads(json_string_huesca)\n",
    "eq_parsed_json_huesca[0]['tactics']['lineup']\n",
    "\n",
    "events = requests.get(\"https://raw.githubusercontent.com/statsbomb/open-data/master/data/events/15973.json\")\n",
    "events = events.json()\n",
    "#loading in match events from json file\n",
    "huesca_df = json_normalize(events, sep = \"_\")\n",
    "\n",
    "#real sociedad barca win\n",
    "real_sociedad = \"https://raw.githubusercontent.com/statsbomb/open-data/master/data/events/15978.json\"\n",
    "response_rs = urllib.request.urlopen(real_sociedad)\n",
    "response_rs.code\n",
    "\n",
    "# transform json data into a string\n",
    "json_string_rs = response_rs.read().decode('utf-8')\n",
    "\n",
    "# parse json data - gives us list of dictionaries that correspond to game events\n",
    "eq_parsed_json_rs = json.loads(json_string_rs)\n",
    "eq_parsed_json_rs[1]['tactics']['lineup']\n",
    "\n",
    "events = requests.get(\"https://raw.githubusercontent.com/statsbomb/open-data/master/data/events/15978.json\")\n",
    "events = events.json()\n",
    "#loading in match events from json file\n",
    "real_sociedad_df = json_normalize(events, sep = \"_\")\n",
    "\n",
    "#girona draw\n",
    "girona = \"https://raw.githubusercontent.com/statsbomb/open-data/master/data/events/15986.json\"\n",
    "response_girona = urllib.request.urlopen(girona)\n",
    "response_girona.code\n",
    "\n",
    "# transform json data into a string\n",
    "json_string_girona = response_girona.read().decode('utf-8')\n",
    "\n",
    "# parse json data - gives us list of dictionaries that correspond to game events\n",
    "eq_parsed_json_girona = json.loads(json_string_girona)\n",
    "eq_parsed_json_girona[0]['tactics']['lineup']\n",
    "\n",
    "events = requests.get(\"https://raw.githubusercontent.com/statsbomb/open-data/master/data/events/15986.json\")\n",
    "events = events.json()\n",
    "#loading in match events from json file\n",
    "girona_df = json_normalize(events, sep = \"_\")\n",
    "\n",
    "#sevilla barca win\n",
    "sevilla = \"https://raw.githubusercontent.com/statsbomb/open-data/master/data/events/16029.json\"\n",
    "response_sevilla = urllib.request.urlopen(sevilla)\n",
    "response_sevilla.code\n",
    "\n",
    "# transform json data into a string\n",
    "json_string_sevilla = response_sevilla.read().decode('utf-8')\n",
    "\n",
    "# parse json data - gives us list of dictionaries that correspond to game events\n",
    "eq_parsed_json_sevilla = json.loads(json_string_sevilla)\n",
    "eq_parsed_json_sevilla[0]['tactics']['lineup']\n",
    "\n",
    "events = requests.get(\"https://raw.githubusercontent.com/statsbomb/open-data/master/data/events/16029.json\")\n",
    "events = events.json()\n",
    "#loading in match events from json file\n",
    "sevilla_df = json_normalize(events, sep = \"_\")\n",
    "\n",
    "#leganes barca loss\n",
    "leganes = \"https://raw.githubusercontent.com/statsbomb/open-data/master/data/events/15998.json\"\n",
    "response_leganes = urllib.request.urlopen(leganes)\n",
    "response_leganes.code\n",
    "\n",
    "# transform json data into a string\n",
    "json_string_leganes = response_leganes.read().decode('utf-8')\n",
    "\n",
    "# parse json data - gives us list of dictionaries that correspond to game events\n",
    "eq_parsed_json_leganes = json.loads(json_string_leganes)\n",
    "eq_parsed_json_leganes[1]['tactics']['lineup']\n",
    "\n",
    "events = requests.get(\"https://raw.githubusercontent.com/statsbomb/open-data/master/data/events/15998.json\")\n",
    "events = events.json()\n",
    "#loading in match events from json file\n",
    "leganes_df = json_normalize(events, sep = \"_\")\n",
    "\n",
    "#valencia draw\n",
    "valencia = \"https://raw.githubusercontent.com/statsbomb/open-data/master/data/events/16023.json\"\n",
    "response_valencia = urllib.request.urlopen(valencia)\n",
    "response_valencia.code\n",
    "\n",
    "# transform json data into a string\n",
    "json_string_valencia = response_valencia.read().decode('utf-8')\n",
    "\n",
    "# parse json data - gives us list of dictionaries that correspond to game events\n",
    "eq_parsed_json_valencia = json.loads(json_string_valencia)\n",
    "eq_parsed_json_valencia[1]['tactics']['lineup']\n",
    "\n",
    "events = requests.get(\"https://raw.githubusercontent.com/statsbomb/open-data/master/data/events/16023.json\")\n",
    "events = events.json()\n",
    "#loading in match events from json file\n",
    "valencia_df = json_normalize(events, sep = \"_\")\n",
    "\n",
    "#atletico madrid barca draw\n",
    "atletico_madrid = \"https://raw.githubusercontent.com/statsbomb/open-data/master/data/events/16073.json\"\n",
    "response_am = urllib.request.urlopen(atletico_madrid)\n",
    "response_am.code\n",
    "\n",
    "# transform json data into a string\n",
    "json_string_am = response_valencia.read().decode('utf-8')\n",
    "\n",
    "# parse json data - gives us list of dictionaries that correspond to game events\n",
    "eq_parsed_json_valencia = json.loads(json_string_valencia)\n",
    "eq_parsed_json_valencia[1]['tactics']['lineup']\n",
    "\n",
    "events = requests.get(\"https://raw.githubusercontent.com/statsbomb/open-data/master/data/events/16073.json\")\n",
    "events = events.json()\n",
    "#loading in match events from json file\n",
    "atletico_madrid_df = json_normalize(events, sep = \"_\")\n",
    "\n",
    "all_data = pd.concat([deportivo_alvares_df, real_vallodid_df, huesca_df, real_sociedad_df, sevilla_df, girona_df, leganes_df, valencia_df, atletico_madrid_df], ignore_index=True)"
   ]
  },
  {
   "cell_type": "code",
   "execution_count": null,
   "id": "1b08b64b-fdaf-485a-ad3d-afc5447e5e22",
   "metadata": {},
   "outputs": [],
   "source": [
    "barca_wins_df = pd.concat([deportivo_alvares_df, real_vallodid_df, huesca_df, real_sociedad_df, sevilla_df], ignore_index=True)\n",
    "barca_nonwins_df = pd.concat([girona_df, leganes_df, valencia_df, atletico_madrid_df], ignore_index=True)"
   ]
  },
  {
   "cell_type": "code",
   "execution_count": null,
   "id": "93f3488e-b95a-4a3a-a340-3510720dbddc",
   "metadata": {},
   "outputs": [],
   "source": [
    "all_data.to_csv(\"Barcelona_Data.csv\", index = False)\n",
    "\n",
    "barca_wins_df.to_csv(\"Barcelona_Wins.csv\", index = False)\n",
    "\n",
    "barca_nonwins_df.to_csv(\"Barcelona_NonWins.csv\", index = False)"
   ]
  },
  {
   "cell_type": "markdown",
   "id": "92c78dce-c1ac-46b6-a789-e339ca4f2b9a",
   "metadata": {},
   "source": [
    "#### <b>Research Question</b>: How does FC Barcelona's passing compare to their opponents?\n",
    "\n",
    "We would like to analyze FC Barcelona's passing compared to their opponents. More specifically, we are interested in the areas of the field that Barcelona (and their opponents) pass the most often. We would expect a team as successful as Barcelona to complete most of their passes on the attacking side of midfield."
   ]
  },
  {
   "cell_type": "markdown",
   "id": "108898a4-beb0-4fab-9f1b-b92b9e48d8b9",
   "metadata": {
    "tags": []
   },
   "source": [
    "#### <b>Passing</b>"
   ]
  },
  {
   "cell_type": "markdown",
   "id": "60389d09-00d1-4e6b-8a50-71654b6ba79a",
   "metadata": {},
   "source": [
    "Using the data from the 10 FC Barcelona matches, we created a heat map of where passes are received for both FC Barcelona and for their opponent. Visualizing where teams are frequently attempting passes can provide context as to if a team is possessing the ball in the attacking end (more likely to score) or in the defending end (less likely to score). We would expect a high-performing team like FC Barcelona to complete a majority of passes in their attacking end, while also limiting their opponent’s passes in their defensive end. The code for these graphs are featured in cell four of the R file."
   ]
  },
  {
   "cell_type": "markdown",
   "id": "b710d615-5677-45c3-b878-24fdf633afa0",
   "metadata": {},
   "source": [
    "The graph of FC Barcelona’s passes, figure 1, shows a high frequency of passes on the attacking end of the pitch. We can see that it was very difficult for opponents to keep Barcelona outside of the attacking end. Another interesting trend is the lack of passes being made in the corners of the field. This suggests that while defending, opponents have a difficult time pressing and forcing defenders to the corner of the pitch, instead of allowing them to pass the ball back towards the middle of the field. Additionally, teams defending Barcelona’s attack have a hard time forcing them to the edge of the pitch and causing desperation crosses. Instead, Barcelona are able to possess the ball towards the middle of the pitch on offense, which makes it easier to create a goal-scoring opportunity. "
   ]
  },
  {
   "cell_type": "markdown",
   "id": "af16ea57-edfe-4c11-b6f6-6c150a7eb21d",
   "metadata": {},
   "source": [
    "An analysis of the opposing teams’ passing charts, figure 2, also adds context as to why Barcelona were so successful at the time. A majority of the opponent’s passes were completed in their defending end, so it shows that teams struggled to advance the ball into their attacking end against Barcelona. Additionally, many of the opposing team’s passes were in their own goal area, which suggests that Barcelona’s attacking players were successful in pressuring the opponent’s defenders, pushing them back towards the goal and forcing passes back to the goalkeeper. Another interesting trend is that many of the opponent’s passes in the attacking end are towards the edge of the pitch, suggesting that Barcelona’s defenders are more effective in pressuring opposing attacks towards the edge of the pitch and limiting goal scoring opportunities."
   ]
  },
  {
   "cell_type": "markdown",
   "id": "3009d31b-c9e9-450b-87d7-3235431e9932",
   "metadata": {},
   "source": [
    "#### <b>Research Question</b>: How do shots in Barcelona wins compare to shots in Barcelona non-wins?\n",
    "\n",
    "You can't score goals without shooting the ball, which is why we felt it was important to analyze shots as well. In this analysis, we can look at metrics like <b>xG</b> (expected goals) to see if Barcelona are generating more quality shots in wins as opposed to non-wins. "
   ]
  },
  {
   "cell_type": "markdown",
   "id": "2e93c339-1bf0-4986-8e64-a484c46b10d5",
   "metadata": {},
   "source": [
    "#### <b>Shots</b>"
   ]
  },
  {
   "cell_type": "markdown",
   "id": "ce4bcb43-e0da-46df-8340-8b388e21ea2c",
   "metadata": {},
   "source": [
    "We took all of the shots attempted by FC Barcelona in the 10 matches we analyzed and made 2 graphs showing where the Barcelona player shot from, if they scored a goal, and the <b>expected goal (xG)</b> value of the shot attempt. The first graph, figure 3, shows their shots in games they won, and the second, figure 4, shows shots in games they did not win. The xG value is a metric that comes from a historical model that measures the probability that a shot will result in a goal.  The xG values range from 0 to 1 with higher values being more likely to result in a goal. The code for this is in cells 7 and 8 of the R file."
   ]
  },
  {
   "cell_type": "markdown",
   "id": "9d274ee0-1ba9-44c4-b89c-62987bffdea8",
   "metadata": {},
   "source": [
    "Based on this chart, we can see that Barcelona attempts a very high number of shots to begin with, but they also convert their goal-scoring opportunities at a high rate. We can see that a majority of their goals come from shots taken inside the box, with a few goals coming from outside the box. Noticeably, shots closer to the goal have a higher xG."
   ]
  },
  {
   "cell_type": "markdown",
   "id": "43b1cf01-2ede-4fc7-be47-b3b8b76896bc",
   "metadata": {},
   "source": [
    "As expected, Barcelona scored significantly less goals in non-wins, but we can also see that they struggle to create scoring opportunities. The size of each point indicates the xG, and we can see that the points are significantly smaller across the board in non-wins. This can be attributed to a number of factors, such as poor passing, difficult shot attempts, and failing to lure defenders out of position. Another key observation is that there are very few shots attempted on the right side of the goal, where Lionel Messi would be playing opposite to. So, even in non-wins, Messi contributes to a large proportion of Barcelona’s scoring opportunities."
   ]
  },
  {
   "cell_type": "markdown",
   "id": "b09f9d92-ced5-4339-ba5c-1ab108bdab7d",
   "metadata": {},
   "source": [
    "#### <b>Research Question</b>: Where on the pitch is Lionel Messi passing the ball?\n",
    "\n",
    "An additional point of analysis we were interested in was Messi's individual impact on generating shots. As an attacking player, we would expect most of his passes to be in the attacking end to begin with, but looking at a heatmap allows us to analyze if his passes are entering dangerous areas and subsequently leading to goals."
   ]
  },
  {
   "cell_type": "markdown",
   "id": "7677916f-0c64-4773-8060-214d932065df",
   "metadata": {},
   "source": [
    "#### <b>Messi's Impact on Scoring</b>"
   ]
  },
  {
   "cell_type": "markdown",
   "id": "1c1a0540-e1bd-49d7-9b06-7905c198792f",
   "metadata": {},
   "source": [
    "Our next area of analysis takes a deeper look into where passes occurred and ended which lead to shots. We wanted to take a deeper look at where Lionel Messi passed the ball compared to the rest of the team as during this time he was considered to be the best player in the world, winning the coveted Balon d’Or for 2019. From his map, figure 5, we are able to see that he favored the left side of the field for where he made these decisive passes. You are able to see that many of these ended in dangerous areas within the box, likely going to the deadly striker in Luis Suarez."
   ]
  },
  {
   "cell_type": "markdown",
   "id": "d9cd6b58-9973-47d7-9178-620bc64f9b63",
   "metadata": {},
   "source": [
    "One interesting thing we were able to notice from this was that Messi is creating such a high volume of passes from the left side of the field in the most dangerous area, just outside of the 18 yard box. By comparing sides, figure 6, we can see that passes tend to be produced from less dangerous areas when produced from the right side of the field than the left. The code for these is in chunks 5 and 6 of the R file.\n"
   ]
  },
  {
   "cell_type": "markdown",
   "id": "19563636-4780-4db0-9f3a-c2feda7c2aa0",
   "metadata": {},
   "source": [
    "#### <b>Conclusion</b>"
   ]
  },
  {
   "cell_type": "markdown",
   "id": "c501df82-fbb7-4c0f-93ed-153e6c8135e8",
   "metadata": {},
   "source": [
    "Based on our analysis of the data from 10 FC Barcelona matches, we can see that Barcelona’s passing shows a much more successful offensive attack compared to their opponents.  Also, we see that in non-wins Barcelona struggled to create quality scoring opportunities. We also noticed that passes from Messi coming from the left side consistently ended up in dangerous areas which lead to good shots from teammates."
   ]
  }
 ],
 "metadata": {
  "kernelspec": {
   "display_name": "Python 3 (ipykernel)",
   "language": "python",
   "name": "python3"
  },
  "language_info": {
   "codemirror_mode": {
    "name": "ipython",
    "version": 3
   },
   "file_extension": ".py",
   "mimetype": "text/x-python",
   "name": "python",
   "nbconvert_exporter": "python",
   "pygments_lexer": "ipython3",
   "version": "3.11.7"
  }
 },
 "nbformat": 4,
 "nbformat_minor": 5
}
